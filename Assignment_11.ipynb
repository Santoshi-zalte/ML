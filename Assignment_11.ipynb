{
  "nbformat": 4,
  "nbformat_minor": 0,
  "metadata": {
    "colab": {
      "name": "Assignment 11.ipynb",
      "provenance": [],
      "include_colab_link": true
    },
    "kernelspec": {
      "name": "python3",
      "display_name": "Python 3"
    },
    "language_info": {
      "name": "python"
    }
  },
  "cells": [
    {
      "cell_type": "markdown",
      "metadata": {
        "id": "view-in-github",
        "colab_type": "text"
      },
      "source": [
        "<a href=\"https://colab.research.google.com/github/Santoshi-zalte/LP2_-program/blob/main/Assignment_11.ipynb\" target=\"_parent\"><img src=\"https://colab.research.google.com/assets/colab-badge.svg\" alt=\"Open In Colab\"/></a>"
      ]
    },
    {
      "cell_type": "code",
      "execution_count": null,
      "metadata": {
        "id": "RzSjECK4lzFX",
        "outputId": "3171ec2c-5eaa-4446-d001-9947fd64aa57",
        "colab": {
          "base_uri": "https://localhost:8080/",
          "height": 130
        }
      },
      "outputs": [
        {
          "output_type": "error",
          "ename": "SyntaxError",
          "evalue": "ignored",
          "traceback": [
            "\u001b[0;36m  File \u001b[0;32m\"<ipython-input-3-10cfd35174dd>\"\u001b[0;36m, line \u001b[0;32m2\u001b[0m\n\u001b[0;31m    import java.util.*;\u001b[0m\n\u001b[0m                     ^\u001b[0m\n\u001b[0;31mSyntaxError\u001b[0m\u001b[0;31m:\u001b[0m invalid syntax\n"
          ]
        }
      ],
      "source": [
        "import java.io.IOException;\n",
        "import java.util.*;\n",
        "import org.apache.hadoop.conf.*;\n",
        "import org.apache.hadoop.fs.*;\n",
        "import org.apache.hadoop.conf.*;\n",
        "import org.apache.hadoop.io.*;\n",
        "import org.apache.hadoop.mapreduce.*;\n",
        "import org.apache.hadoop.mapreduce.lib.input.*;\n",
        "import org.apache.hadoop.mapreduce.lib.output.*;\n",
        "import org.apache.hadoop.util.*;"
      ]
    },
    {
      "cell_type": "code",
      "source": [
        "public class WordCount extends Configured implements Tool \n",
        "{\n",
        "    public static void main(String args[]) throws Exception\n",
        "    {\n",
        "            int res = ToolRunner.run(new WordCount(), args);\n",
        "            System.exit(res);\n",
        "      }\n",
        "    public int run(String[] args) throws Exception \n",
        "    {\n",
        "        Path inputPath = new Path(args[0]);\n",
        "            Path outputPath = new Path(args[1]);\n",
        "\n",
        "        Configuration conf = getConf();\n",
        "            Job job = new Job(conf, this.getClass().toString());\n",
        "            job.setJarByClass(WordCount.class);\n",
        "\n",
        "            FileInputFormat.setInputPaths(job, inputPath);\n",
        "            FileOutputFormat.setOutputPath(job, outputPath);\n",
        "\n",
        "            job.setJobName(\"WordCount\");\n",
        "  \n",
        "         job.setMapperClass(Map.class);\n",
        "            job.setCombinerClass(Reduce.class);\n",
        "            job.setReducerClass(Reduce.class);\n",
        "            job.setMapOutputKeyClass(Text.class);\n",
        "            job.setMapOutputValueClass(IntWritable.class);\n",
        "            job.setOutputKeyClass(Text.class);\n",
        "            job.setOutputValueClass(IntWritable.class);\n",
        "            job.setInputFormatClass(TextInputFormat.class);\n",
        "            job.setOutputFormatClass(TextOutputFormat.class);\n",
        "   \n",
        "           return job.waitForCompletion(true) ? 0 : 1;\n",
        "    }\n",
        "\n",
        "    public static class Map extends Mapper<LongWritable, Text, Text, IntWritable> \n",
        "    {\n",
        "        private final static IntWritable one = new IntWritable(1);\n",
        "        private Text word = new Text();\n",
        "\n",
        "            \n",
        "            public void map(LongWritable key, Text value, Mapper.Context context) throws IOException, InterruptedException \n",
        "            {\n",
        "                  String line = value.toString();\n",
        "                  StringTokenizer tokenizer = new StringTokenizer(line);\n",
        "                  while (tokenizer.hasMoreTokens()) \n",
        "                  {\n",
        "                    word.set(tokenizer.nextToken());\n",
        "                    context.write(word, one);\n",
        "                  }\n",
        "            }\n",
        "    }\n",
        "\n",
        "    public static class Reduce extends Reducer<Text, IntWritable, Text, IntWritable> \n",
        "    {\n",
        "        \n",
        "            public void reduce(Text key, Iterable<IntWritable> values, Context context) throws IOException, InterruptedException \n",
        "            {\n",
        "                  int sum = 0;\n",
        "                  for(IntWritable value : values) \n",
        "                  {\n",
        "                    sum += value.get();\n",
        "                  }        \n",
        "            context.write(key, new IntWritable(sum));\n",
        "            }        \n",
        "      }\n",
        "}"
      ],
      "metadata": {
        "id": "5NplsSDIl26Y",
        "outputId": "323ac4d6-5b2f-402a-aba6-77a2522cdbfe",
        "colab": {
          "base_uri": "https://localhost:8080/",
          "height": 130
        }
      },
      "execution_count": null,
      "outputs": [
        {
          "output_type": "error",
          "ename": "SyntaxError",
          "evalue": "ignored",
          "traceback": [
            "\u001b[0;36m  File \u001b[0;32m\"<ipython-input-4-06aba1ff55bf>\"\u001b[0;36m, line \u001b[0;32m1\u001b[0m\n\u001b[0;31m    public class WordCount extends Configured implements Tool\u001b[0m\n\u001b[0m               ^\u001b[0m\n\u001b[0;31mSyntaxError\u001b[0m\u001b[0;31m:\u001b[0m invalid syntax\n"
          ]
        }
      ]
    },
    {
      "cell_type": "code",
      "source": [
        ""
      ],
      "metadata": {
        "id": "j3wWKhwal28t"
      },
      "execution_count": null,
      "outputs": []
    },
    {
      "cell_type": "code",
      "source": [
        ""
      ],
      "metadata": {
        "id": "J8PtCeA0l2_E"
      },
      "execution_count": null,
      "outputs": []
    },
    {
      "cell_type": "code",
      "source": [
        ""
      ],
      "metadata": {
        "id": "bIkQZ6gil3A-"
      },
      "execution_count": null,
      "outputs": []
    },
    {
      "cell_type": "code",
      "source": [
        ""
      ],
      "metadata": {
        "id": "pJMfzQQBl3Db"
      },
      "execution_count": null,
      "outputs": []
    },
    {
      "cell_type": "code",
      "source": [
        ""
      ],
      "metadata": {
        "id": "5go3WQgNl3FK"
      },
      "execution_count": null,
      "outputs": []
    },
    {
      "cell_type": "code",
      "source": [
        ""
      ],
      "metadata": {
        "id": "_6WDHfNHl3Ig"
      },
      "execution_count": null,
      "outputs": []
    }
  ]
}